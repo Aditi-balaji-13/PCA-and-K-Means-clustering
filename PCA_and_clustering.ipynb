{
  "nbformat": 4,
  "nbformat_minor": 0,
  "metadata": {
    "kernelspec": {
      "display_name": "py36notebook",
      "language": "python",
      "name": "py36notebook"
    },
    "language_info": {
      "codemirror_mode": {
        "name": "ipython",
        "version": 3
      },
      "file_extension": ".py",
      "mimetype": "text/x-python",
      "name": "python",
      "nbconvert_exporter": "python",
      "pygments_lexer": "ipython3",
      "version": "3.6.0"
    },
    "colab": {
      "name": "PCA_and_clustering.ipynb",
      "provenance": [],
      "collapsed_sections": [],
      "include_colab_link": true
    }
  },
  "cells": [
    {
      "cell_type": "markdown",
      "metadata": {
        "id": "view-in-github",
        "colab_type": "text"
      },
      "source": [
        "<a href=\"https://colab.research.google.com/github/hacker1312-random/PCA-and-K-Means-clustering/blob/main/PCA_and_clustering.ipynb\" target=\"_parent\"><img src=\"https://colab.research.google.com/assets/colab-badge.svg\" alt=\"Open In Colab\"/></a>"
      ]
    },
    {
      "cell_type": "markdown",
      "metadata": {
        "id": "_QmWxLLA2YOF"
      },
      "source": [
        "# General Instructions to students:\n",
        "\n",
        "1. There are 5 types of cells in this notebook. The cell type will be indicated within the cell.\n",
        "    1. Markdown cells with problem written in it. (DO NOT TOUCH THESE CELLS) (**Cell type: TextRead**)\n",
        "    2. Python cells with setup code for further evaluations. (DO NOT TOUCH THESE CELLS) (**Cell type: CodeRead**)\n",
        "    3. Python code cells with some template code or empty cell. (FILL CODE IN THESE CELLS BASED ON INSTRUCTIONS IN CURRENT AND PREVIOUS CELLS) (**Cell type: CodeWrite**)\n",
        "    4. Markdown cells where a written reasoning or conclusion is expected. (WRITE SENTENCES IN THESE CELLS) (**Cell type: TextWrite**)\n",
        "    5. Temporary code cells for convenience and TAs. (YOU MAY DO WHAT YOU WILL WITH THESE CELLS, TAs WILL REPLACE WHATEVER YOU WRITE HERE WITH OFFICIAL EVALUATION CODE) (**Cell type: Convenience**)\n",
        "    \n",
        "2. You are not allowed to insert new cells in the submitted notebook.\n",
        "\n",
        "3. You are not allowed to **import** any extra packages.\n",
        "\n",
        "4. The code is to be written in Python 3.6 syntax. Latest versions of other packages maybe assumed.\n",
        "\n",
        "5. In CodeWrite Cells, the only outputs to be given are plots asked in the question. Nothing else to be output/print. \n",
        "\n",
        "6. If TextWrite cells ask you to give accuracy/error/other numbers you can print them on the code cells, but remove the print statements before submitting.\n",
        "\n",
        "7. Any runtime failures on the submitted notebook as it is will get zero marks.\n",
        "\n",
        "8. All code must be written by yourself. Copying from other students/material on the web is strictly prohibited. Any violations will result in zero marks.\n",
        "\n",
        "9. The dataset is given as .npz file, and will contain data in  numpy array. \n",
        "\n",
        "10. All plots must be labelled properly, all tables must have rows and columns named properly.\n",
        "\n",
        "11. You are allowed to use the numpy library to calculate eigen values. All other functions for reconstruction, clustering, etc., should be written from scratch.\n",
        "\n",
        "12. Change the name of the file with your roll no.\n",
        "\n"
      ]
    },
    {
      "cell_type": "code",
      "metadata": {
        "id": "bLOjYzzA2YOI"
      },
      "source": [
        "# Cell type : CodeRead\n",
        "\n",
        "import numpy as np\n",
        "import matplotlib.pyplot as plt\n"
      ],
      "execution_count": 2,
      "outputs": []
    },
    {
      "cell_type": "markdown",
      "metadata": {
        "id": "s3PBeaFv2YOO"
      },
      "source": [
        "**Cell type : TextRead**\n",
        "\n",
        "# Problem 5: Life in Lower Dimensions\n",
        "\n",
        "You are provided with a dataset of 1797 images - each image is 8x8 pixels and provided as a feature vector of length 64. You will try your hands at transforming this dataset to a lower-dimensional space using PCA, and perform K-means clustering the images in this reduced space.\n",
        " \n",
        "\n",
        "\n"
      ]
    },
    {
      "cell_type": "code",
      "metadata": {
        "id": "U2idb_9Tbj6i"
      },
      "source": [
        "# Cell type : CodeWrite\n",
        "# write the function for PCA and K-means clustering here. \n",
        "\n",
        "#PCA\n",
        "def pca_algorithm(X, M): \n",
        "  N = X.shape[0]\n",
        "  D = X.shape[1]\n",
        "  X_bar = np.mean(X, axis = 0)\n",
        "  X_new = X - X_bar #mean-centered sample\n",
        "  S = 1/N* X_new.T@X_new\n",
        "  l, u_orth = np.linalg.eig((S))\n",
        "\n",
        "  #creating X_pca\n",
        "  z = np.zeros((N,M))\n",
        "  b = np.zeros((1,D))\n",
        "  X_pca = np.zeros((N,D))\n",
        "\n",
        "  for n in range(N):\n",
        "    for i in range(M):\n",
        "      z[n,i] = np.dot(X[n], u_orth[:,i])\n",
        "  \n",
        "  for j in range(M,D):\n",
        "    b[0,j] = np.dot(X_bar, u_orth[:,j])\n",
        "\n",
        "  for n in range (N):\n",
        "    for i in range(M):\n",
        "      X_pca[n,:] = X_pca[n,:] + z[n,i]*u_orth[:,i].T\n",
        "\n",
        "    for j in range (M,D):\n",
        "      X_pca[n,:] = X_pca[n,:] + b[0,j]*u_orth[:,j].T\n",
        "\n",
        "  E = np.sum((X-X_pca)**2)/N\n",
        " \n",
        "  return z,E\n",
        "\n",
        "#function for k-means clustering \n",
        "def k_means_algorithm(X, k, n_iter):\n",
        "  N = int(X.shape[0])\n",
        "  D = X.shape[1]\n",
        "  index = np.random.randint(0,N,size = k, dtype = int)\n",
        "  m = 0\n",
        "  means = np.zeros((k,D))\n",
        "  for i in index:\n",
        "    means[m,:] = X[i,:]\n",
        "    m = m+1\n",
        "\n",
        "  #loop\n",
        "  for count in range(n_iter):\n",
        "    #alloting clusters \n",
        "    dist_mat = np.zeros((N,k))\n",
        "    euc_dist = np.zeros((N,1))\n",
        "    r = np.zeros((N, k))\n",
        "    for i in range (k):\n",
        "      euc_dist = np.sum((X - means[i,:])**2, axis = 1)\n",
        "      dist_mat[:,i] = euc_dist\n",
        "    cluster_ind = np.argmin(dist_mat, axis = 1)\n",
        "\n",
        "    for count in range(N):\n",
        "      r[count, cluster_ind[count]] = 1\n",
        "\n",
        "    #recalculating mean\n",
        "    for j in range(k):\n",
        "      temp = 0\n",
        "      temp1 = 0\n",
        "      for count1 in range(N):\n",
        "        temp = temp + r[count1, j] * X[count1, :]\n",
        "        temp1 = temp1 + r[count1, j] \n",
        "      means[j,:] = temp/temp1\n",
        "\n",
        "\n",
        "\n",
        "  #final reallocation of clusters\n",
        "  dist_mat = np.zeros((N,k))\n",
        "  euc_dist = np.zeros((N,1))\n",
        "  for i in range (k):\n",
        "    euc_dist = np.sum((X - means[i,:])**2, axis = 1)\n",
        "    dist_mat[:,i] = euc_dist\n",
        "  cluster_ind = np.argmin(dist_mat, axis = 1)\n",
        "\n",
        "  for count in range(N):\n",
        "    r[count, cluster_ind[count]] = 1\n",
        "  \n",
        "  J = 0\n",
        "  for i in range (N):\n",
        "    for j in range (k):\n",
        "      J = J + r[i,j] * np.sum((X[i,:] - means[j,:])**2)\n",
        "  \n",
        "  return means,r ,J\n",
        "\n",
        "\n",
        "  \n",
        "\n",
        "  \n",
        "\n"
      ],
      "execution_count": 3,
      "outputs": []
    },
    {
      "cell_type": "markdown",
      "metadata": {
        "id": "t1TtiFGnbja_"
      },
      "source": [
        ""
      ]
    },
    {
      "cell_type": "markdown",
      "metadata": {
        "id": "oxn_5V_M2YOa"
      },
      "source": [
        "**Cell type : TextRead**\n",
        "\n",
        "# Problem 5\n",
        "\n",
        "#### 5a) Run PCA algorithm on the given data-set. Plot the cumulative percentage variance explained by the principal components. Report the number of principal components that contribute to 90% of the variance in the dataset.\n",
        "\n",
        "\n"
      ]
    },
    {
      "cell_type": "code",
      "metadata": {
        "id": "03-5tY9-2YOc",
        "colab": {
          "base_uri": "https://localhost:8080/",
          "height": 312
        },
        "outputId": "d7a945a2-1cbd-4e9a-9959-533ba065db82"
      },
      "source": [
        "# Cell type : CodeWrite\n",
        "# write the code for loading the data, running the PCA algorithm, and plotting. \n",
        "# (Use the functions written previously.)\n",
        "data = np.load('Data_assn2.npz')\n",
        "X = data['arr_0']\n",
        "X_pca, E = pca_algorithm(X, M = 16)\n",
        "\n",
        "#Normalising data\n",
        "N = X.shape[0]\n",
        "D = X.shape[1]\n",
        "X_bar = np.mean(X, axis = 0)\n",
        "X_new = X - X_bar #mean-centered sample\n",
        "S = 1/N* X_new.T@X_new\n",
        "\n",
        "#Calculating eigenvalues\n",
        "v, u = np.linalg.eig(S)\n",
        "v[::-1].sort()\n",
        "\n",
        "#calculating cumulative percentage variance \n",
        "num = np.zeros((len(v)))\n",
        "var_perc_frac = np.zeros((len(v)))\n",
        "var_perc_tot = np.zeros((len(v)))\n",
        "for i in range(len(v)):\n",
        "  num[i] = i+1\n",
        "  var_perc_frac[i] = v[i]/ np.sum(v) *100\n",
        "  var_perc_tot[i] = np.sum(var_perc_frac[0:i+1]) # cumulative perccentage variance\n",
        "\n",
        "#Ploting graphs\n",
        "plt.plot(num,var_perc_tot)\n",
        "plt.xlabel('dimention of pca')\n",
        "plt.ylabel('cumulative percentage variance value')\n",
        "plt.title('cumulative percentage variance exxplauned by PCA')\n",
        "for j in range (len(v)):\n",
        "  if (var_perc_tot[j]>= 90):\n",
        "    break\n",
        "\n",
        "print(\"The number of vectores that have more than 90% contribution is \",j+1)\n",
        "\n"
      ],
      "execution_count": 4,
      "outputs": [
        {
          "output_type": "stream",
          "text": [
            "The number of vectores that have more than 90% contribution is  21\n"
          ],
          "name": "stdout"
        },
        {
          "output_type": "display_data",
          "data": {
            "image/png": "[encoded data removed]",
            "text/plain": [
              "<Figure size 432x288 with 1 Axes>"
            ]
          },
          "metadata": {
            "tags": [],
            "needs_background": "light"
          }
        }
      ]
    },
    {
      "cell_type": "markdown",
      "metadata": {
        "id": "A4l-j-e-sDr1"
      },
      "source": [
        "####5b)  Perform reconstruction of data using the dimensionality-reduced data considering the number of dimensions [2,4,8,16]. Report the Mean Square Error (MSE) between the original data and reconstructed data, and interpret the optimal dimensions $\\hat{d}$ based on the MSE values.\n",
        "\n"
      ]
    },
    {
      "cell_type": "code",
      "metadata": {
        "id": "-imwHLynsTee",
        "colab": {
          "base_uri": "https://localhost:8080/"
        },
        "outputId": "571a8bd4-931c-4f81-adea-336d0a213659"
      },
      "source": [
        "# Cell type : CodeWrite\n",
        "# Write the code for data reconstruction, run the algorithm for dimensions.\n",
        "#creating arrays\n",
        "n_dim = np.array([2,4,8,16])\n",
        "mse = np.zeros(n_dim.shape)\n",
        "\n",
        "#running pca algorithm\n",
        "for i in range(4):\n",
        "  X_pca, mse[i] = pca_algorithm(X, M = n_dim[i])\n",
        "  print(\"For dimensionality reduction to\",i,\"the mean error was found to be\",mse[i] )\n",
        "\n",
        "#finding optimal pca dimension  \n",
        "min = np.argmin(mse)\n",
        "print(\"the least error is found in dimension\", n_dim[min])\n",
        "\n",
        "#calculating required dimension reduced data\n",
        "X_pca_final, error_pca = pca_algorithm(X, M = n_dim[min])\n",
        "\n",
        "\n"
      ],
      "execution_count": 5,
      "outputs": [
        {
          "output_type": "stream",
          "text": [
            "For dimensionality reduction to 0 the mean error was found to be 858.944780848733\n",
            "For dimensionality reduction to 1 the mean error was found to be 616.1911300562696\n",
            "For dimensionality reduction to 2 the mean error was found to be 391.79473611497656\n",
            "For dimensionality reduction to 3 the mean error was found to be 180.93970325737862\n",
            "the least error is found in dimension 16\n"
          ],
          "name": "stdout"
        }
      ]
    },
    {
      "cell_type": "markdown",
      "metadata": {
        "id": "n0T5nHANsIVE"
      },
      "source": [
        "####5c) Apply K-means clustering on the reduced dataset from last subpart (b) (i.e., the $R^{64}$ to $R^\\hat{d}$ reduced dataset; pick the initial k points as cluster centers during initialization). Report the optimal choice of K you have made from the set [1...15]. Which method did you choose to find the optimum number of clusters? And explain briefy why you chose that method. Also, show the 2D scatter plot (consider only the first two dimensions of optimal $\\hat{d}$) of the datapoints based on the cluster predicted by K-means (use different color for each cluster).\n"
      ]
    },
    {
      "cell_type": "code",
      "metadata": {
        "id": "mo_Cwhtgc6YF",
        "colab": {
          "base_uri": "https://localhost:8080/",
          "height": 299
        },
        "outputId": "ffd5325d-3b7f-4ac7-cb3a-486d76022e79"
      },
      "source": [
        "# Cell type : CodeWrite\n",
        "# Write the code for dimensionality reduction, run k-means algorithm on the reduced data-set and do plotting.\n",
        "#declaring arrays\n",
        "J = np.zeros((15))\n",
        "k_count = np.zeros((15))\n",
        "slope = np.zeros((15))\n",
        "\n",
        "#running k means clustering algorithm to calculate optimum number of clusters\n",
        "for k in range(1,16):\n",
        "  k_count[k-1] = k\n",
        "  mean, r, J[k-1]  = k_means_algorithm(X_pca_final, k, n_iter = 50)\n",
        "  if (k !=1):\n",
        "    slope[k-1] = J[k-1] - J[k-2] \n",
        "\n",
        "#calculating optimum number of clusters using elbow method\n",
        "min_val = np.argmax(slope)\n",
        "\n",
        "#running k-means algorithm for optimum k\n",
        "k = int(k_count[min_val])\n",
        "print(\"optimum k was found to be\",k)\n",
        "mean, r, J_fin =  k_means_algorithm(X_pca_final, k, n_iter = 50)\n",
        "\n",
        "#running loop to scatter plot the different clusters in different colours\n",
        "N = int (X_pca_final.shape[0])\n",
        "for j in range (k):\n",
        "  clust = np.array([])\n",
        "  for n in range (N):\n",
        "    if (r[n,j] == 1):\n",
        "      if(clust.shape == (0,)):\n",
        "        clust = np.append(clust, X_pca_final[n,:], axis=0)\n",
        "      else:\n",
        "        clust = np.vstack((clust,X_pca_final[n,:]))\n",
        "  plt.scatter(clust[:,0],clust[:,1])\n",
        "  \n",
        "#refer to latexx pdf for explantion in relation to elbow method used to find optimum k\n",
        "\n"
      ],
      "execution_count": 6,
      "outputs": [
        {
          "output_type": "stream",
          "text": [
            "/usr/local/lib/python3.7/dist-packages/ipykernel_launcher.py:68: RuntimeWarning: invalid value encountered in true_divide\n"
          ],
          "name": "stderr"
        },
        {
          "output_type": "stream",
          "text": [
            "optimum k was found to be 14\n"
          ],
          "name": "stdout"
        },
        {
          "output_type": "display_data",
          "data": {
            "image/png": "[encoded data removed]",
            "text/plain": [
              "<Figure size 432x288 with 1 Axes>"
            ]
          },
          "metadata": {
            "tags": [],
            "needs_background": "light"
          }
        }
      ]
    },
    {
      "cell_type": "markdown",
      "metadata": {
        "id": "FOV0CPf5sJ-v"
      },
      "source": [
        "####5d) In the next TextWrite cell, Summarise and explain your observations from the above experiments. Is the PCA+K-means clustering consistent with how your brain would cluster the images?\n",
        "\n"
      ]
    },
    {
      "cell_type": "markdown",
      "metadata": {
        "id": "2u5_HkyasqAo"
      },
      "source": [
        "**Cell type : TextWrite**\n",
        "\n",
        "Report your observations, MSE values and the method used to choose the optimal number of clusters.\n",
        "\n",
        "The above PCA algorithm has been way more consistant than expected. However, the k-means algorithm changed values on each iteraton. Though the output of the kmeans algorithm was not as satisfactory as to how we would have clustered them in our brain, it did seem efficient. \n",
        "\n",
        "The MSE and distortion values however were quiet high. "
      ]
    },
    {
      "cell_type": "code",
      "metadata": {
        "id": "QiWpkCGk07qj"
      },
      "source": [
        ""
      ],
      "execution_count": null,
      "outputs": []
    }
  ]
}